{
 "cells": [
  {
   "cell_type": "code",
   "execution_count": 5,
   "id": "7fb02390",
   "metadata": {},
   "outputs": [],
   "source": [
    "## test file:\n",
    "import geopandas as gpd\n",
    "import matplotlib.pyplot as plt\n",
    "import pandas as pd\n",
    "from shapely.geometry import Point\n",
    "from cse163_utils import assert_equals, parse\n"
   ]
  },
  {
   "cell_type": "code",
   "execution_count": 6,
   "id": "4d8f9fc9",
   "metadata": {},
   "outputs": [],
   "source": [
    "FILE_PATH = \"C:/Users/718/Desktop/cse163/crime_in_la.csv\"\n",
    "la_crime_data = pd.read_csv(FILE_PATH)\n",
    "la_crime_data.head()\n",
    "coordinates = zip(la_crime_data['LON'], la_crime_data['LAT'])\n",
    "la_crime_data['coordinates'] = [\n",
    "    Point(-lon, lat) for lon, lat in coordinates\n",
    "]\n",
    "la_crime_data = gpd.GeoDataFrame(la_crime_data, geometry='coordinates')"
   ]
  },
  {
   "cell_type": "code",
   "execution_count": 9,
   "id": "afb89b59",
   "metadata": {},
   "outputs": [],
   "source": [
    "la_map = gpd.read_file(\"C:/Users/718/Desktop/cse163/LAPD_map/LAPD_Divisions.shp\")\n",
    "# The area name in la_map is a little different with crime data. But we want those to match\n",
    "# inorder to make some analysis, so we make change to let same area have same name.\n",
    "la_map[\"APREC\"] = la_map[\"APREC\"].str.lower()\n",
    "la_map[\"APREC\"] = la_map[\"APREC\"].replace([\"north hollywood\", \"west los angeles\"], [\"n hollywood\", \"west la\"])\n",
    "la_crime_data[\"AREA NAME\"] = la_crime_data[\"AREA NAME\"].str.lower()"
   ]
  },
  {
   "cell_type": "code",
   "execution_count": 10,
   "id": "a173e160",
   "metadata": {},
   "outputs": [],
   "source": [
    "# test if area name match\n",
    "assert_equals(sorted(la_crime_data[\"AREA NAME\"].unique()), sorted(la_map[\"APREC\"].unique()))"
   ]
  },
  {
   "cell_type": "code",
   "execution_count": null,
   "id": "314d6b8d",
   "metadata": {},
   "outputs": [],
   "source": []
  }
 ],
 "metadata": {
  "kernelspec": {
   "display_name": "Python 3 (ipykernel)",
   "language": "python",
   "name": "python3"
  },
  "language_info": {
   "codemirror_mode": {
    "name": "ipython",
    "version": 3
   },
   "file_extension": ".py",
   "mimetype": "text/x-python",
   "name": "python",
   "nbconvert_exporter": "python",
   "pygments_lexer": "ipython3",
   "version": "3.8.12"
  }
 },
 "nbformat": 4,
 "nbformat_minor": 5
}
